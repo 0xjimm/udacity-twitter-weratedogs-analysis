{
 "cells": [
  {
   "cell_type": "markdown",
   "metadata": {},
   "source": [
    "# Act Report"
   ]
  },
  {
   "cell_type": "markdown",
   "metadata": {},
   "source": [
    "From Udacity's Project on Wrangling and Analyzing Data, students are asked to gather data from multiple sources, clean the data, and to infer insights from the WeRateDogs Twitter account.\n",
    "\n",
    "The following visualizations are generated from these efforts.  To read the source code, please visit the [Github repository here.](https://github.com/lejimmy/udacity-twitter-weratedogs-analysis)"
   ]
  },
  {
   "cell_type": "markdown",
   "metadata": {},
   "source": [
    "![](retweets_likes_over_time.png)"
   ]
  },
  {
   "cell_type": "markdown",
   "metadata": {},
   "source": [
    "From 2015 to 2017, the number of likes appears to be exponetially increasing.  The number of retweets appears to be increasing at a linear rate.  I hypothesize that the number of likes is exponentially related to the number of likes.  This inference is made since each retweet is displayed to all of the user's followers.\n",
    "\n",
    "According to [SocialBlade](https://socialblade.com/twitter/user/dog_rates/monthly), the number of followers @dog_rates has steadily grown from 372k in September 2017 to 3.65m by September 2019."
   ]
  },
  {
   "cell_type": "markdown",
   "metadata": {},
   "source": [
    "![](likes_dog_stage.png)"
   ]
  },
  {
   "cell_type": "markdown",
   "metadata": {},
   "source": [
    "According to Rover's Blog on [How Cuteness Makes Us Lover Our Dogs](https://www.rover.com/blog/science-cute-dogs/), studies have hypothesized that \"dogs evolved to be cuter as they became more domesticated in order to make people want to take care of them\" and that puppies exhibit more features of what makes a dog cute."
   ]
  },
  {
   "cell_type": "markdown",
   "metadata": {},
   "source": [
    "It appears from our data that Puppos indeed receive more likes on average than their Doggo counterparts."
   ]
  },
  {
   "cell_type": "code",
   "execution_count": null,
   "metadata": {},
   "outputs": [],
   "source": []
  }
 ],
 "metadata": {
  "kernelspec": {
   "display_name": "Python [conda env:root] *",
   "language": "python",
   "name": "conda-root-py"
  },
  "language_info": {
   "codemirror_mode": {
    "name": "ipython",
    "version": 3
   },
   "file_extension": ".py",
   "mimetype": "text/x-python",
   "name": "python",
   "nbconvert_exporter": "python",
   "pygments_lexer": "ipython3",
   "version": "3.7.3"
  }
 },
 "nbformat": 4,
 "nbformat_minor": 2
}
