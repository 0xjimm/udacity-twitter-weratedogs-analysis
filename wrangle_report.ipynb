{
 "cells": [
  {
   "cell_type": "markdown",
   "metadata": {},
   "source": [
    "# Wrangle Report\n",
    "\n",
    "This document briefly describes the wrangling efforts for the WeRateDogs Twitter dataset in the `wrangle_act.ipynb` notebook.\n",
    "\n",
    "## Gathering Data\n",
    "\n",
    "The dataset was gather through the following methods:\n",
    "1. File on hand - `twitter_archive_enhanced.csv`\n",
    "2. File hosted on Udacity's servers - `image_predictions.tsv`\n",
    "3. Query of Twitter API - `tweet_json.txt`"
   ]
  },
  {
   "cell_type": "markdown",
   "metadata": {},
   "source": [
    "### `twitter_archive_enhanced.csv`\n",
    "\n",
    "Using the pandas library, `.csv` files were read directly into a DataFrame.\n",
    "\n",
    "### `image_predictions.tsv`\n",
    "\n",
    "Using the requests library, files hosted on the internet were programmatically downloaded.  Once downloaded, the pandas library was used to read in the `.tsv` into a DataFrame.\n",
    "\n",
    "### `tweet_json.txt`\n",
    "\n",
    "Using the tweepy and json libraries, the tweets were dumped into a `.txt` file.  The text file is read line by line to append the `tweet_id`, `favorite_count`, and `retweet_count` into a DataFrame"
   ]
  },
  {
   "cell_type": "markdown",
   "metadata": {},
   "source": [
    "## Assessing Data\n",
    "Once the data has all been gathered into individual DataFrames, the data is assessed both visually and programmatically to look for quality and tidiness issues.\n",
    "\n",
    "Programmatic Methods:\n",
    "- .head()\n",
    "- .describe()\n",
    "- .info()\n",
    "- .duplicated()\n",
    "- .value_counts()\n",
    "- .query()\n",
    "- .sum()\n",
    "\n",
    "The quality issues were categorized by completeness, validity, accuracy, and consistency.  The tidiness issues were categorized by tidy data principles."
   ]
  },
  {
   "cell_type": "markdown",
   "metadata": {},
   "source": [
    "### Quality Issues\n",
    "#### Completeness\n",
    "1. `df_ae`: Missing and incorrect dog names\n",
    "2. `df_ae`: Benebop Cumberfloof not identified as floofer\n",
    "\n",
    "#### Validity\n",
    "4. `df_ae`: Retweets may capture the same dog twice with a different tweet_id\n",
    "5. `df_ae`: Replies do not have images\n",
    "6. `df_ip`: 324 predictions where the top 3 predictions are not dog breeds.  Sampling data reveals turtles, fish, sloth, etc.\n",
    "\n",
    "#### Accuracy\n",
    "7. `df_ae`: Rating numerator and denominator have many outliers\n",
    "\n",
    "#### Consistency\n",
    "9. `df_ae`: Timestamp column is a string\n",
    "10. `df_ae`: Source displays url\n",
    "\n",
    "### Tidiness Issues\n",
    "\n",
    "#### Each variable forms a column\n",
    "11. `df_ip`: Four columns for stages of dog (doggo, pupper, puppo, floofer) should be one category column\n",
    "\n",
    "#### Each observation forms a row\n",
    "- N/A\n",
    "\n",
    "#### Each type of observational unit forms a table\n",
    "12. `df_ip`: Observational unit is for image prediction, `jpg_url` should be part of `df_ae` table.\n",
    "13. `df_tj`: Retweet and favorite should be appended to `df_ae` table."
   ]
  },
  {
   "cell_type": "markdown",
   "metadata": {},
   "source": [
    "## Cleaning"
   ]
  },
  {
   "cell_type": "markdown",
   "metadata": {},
   "source": [
    "This section will discuss some of the more involved cleaning efforts, the shortcomings, and possible improvements."
   ]
  },
  {
   "cell_type": "markdown",
   "metadata": {},
   "source": [
    "#### Issue #1: Missing and incorrect dog names.\n",
    "\n",
    "Most of the tweets introduce the dog's name in the beginning of each tweet with \"This is ...\".\n",
    "\n",
    "It appears the previous gathering efforts took note of this pattern and was able to capture most of the dog's name by extracting the word after \"This is ...\".\n",
    "\n",
    "However, if the tweet did not begin with \"This is ...\" the name was defaulted to \"None\".  This explains the 745 records where the dog's name is \"None\".\n",
    "\n",
    "This method also explains why the second most dog name is \"a\".  For example, if the tweet began with \"This is a good boy...\" then the method assigned the letter \"a\" to the dog's name.\n",
    "\n",
    "On further inspection, if the dog's name was lowercase, it was likely labeled incorrectly.\n",
    "\n",
    "The cleaning effort tried to correct the dog's name by filtering by incorrectly labeled tweets, and finding their name in the body of the text.\n",
    "\n",
    "In the interest of time and practicallity, the notebook only includes correction for dog names labeled as \"a\".\n",
    "\n",
    "More more can be done to correctly extract the dog names from the tweets."
   ]
  },
  {
   "cell_type": "markdown",
   "metadata": {},
   "source": [
    "#### Issue #3:  Extracting nested dictionaries/lists from JSON creates messy data.\n",
    "\n",
    "The JSON files from Twitter are complex and include nested dictionaries/lists.  While trying to convert these complex JSON files into a DataFrame, issues arose as some nested dictionaries have the same key.\n",
    "\n",
    "While trying to flatten or normalize the JSON files, it resulted in many empty columns and Series of lists that proved difficult to work with.\n",
    "\n",
    "To get around this issue, only the columns of interest were extracted.\n",
    "\n",
    "Additional insights may be derived from appropriate handling of the Twitter API JSON files."
   ]
  },
  {
   "cell_type": "markdown",
   "metadata": {},
   "source": [
    "#### Issue #6: Top 3 predictions are not dog breeds.\n",
    "\n",
    "For the majority of predictions where there are no dog predictions, the majority of the images did not have a dog in the picture.\n",
    "\n",
    "However, there are some instances where a dog is in a busy photo and a dog breed is not predicted.\n",
    "\n",
    "For example, a photo of a dog taken from behind and his face is in the reflection of a computer monitor.  The top three predictions were for items on the desk.\n",
    "\n",
    "Retraining the model may provide more accurate breed predictions."
   ]
  },
  {
   "cell_type": "code",
   "execution_count": null,
   "metadata": {},
   "outputs": [],
   "source": []
  }
 ],
 "metadata": {
  "kernelspec": {
   "display_name": "Python [conda env:root] *",
   "language": "python",
   "name": "conda-root-py"
  },
  "language_info": {
   "codemirror_mode": {
    "name": "ipython",
    "version": 3
   },
   "file_extension": ".py",
   "mimetype": "text/x-python",
   "name": "python",
   "nbconvert_exporter": "python",
   "pygments_lexer": "ipython3",
   "version": "3.7.3"
  }
 },
 "nbformat": 4,
 "nbformat_minor": 2
}
